{
 "cells": [
  {
   "cell_type": "code",
   "id": "initial_id",
   "metadata": {
    "collapsed": true,
    "ExecuteTime": {
     "end_time": "2024-08-30T20:16:07.819944Z",
     "start_time": "2024-08-30T20:16:04.668678Z"
    }
   },
   "source": [
    "import numpy as np\n",
    "import pandas as pd\n",
    "import matplotlib.pyplot as plt\n",
    "import seaborn as sns\n",
    "from keras.callbacks import ReduceLROnPlateau\n",
    "from keras.layers import Conv2D, Dense, Dropout, Flatten, MaxPooling2D\n",
    "from keras.optimizers import RMSprop\n",
    "from keras.utils import to_categorical\n",
    "from keras_preprocessing.image import ImageDataGenerator\n",
    "from sklearn.model_selection import train_test_split\n",
    "\n",
    "from keras.models import Sequential\n",
    "import tensorflow as tf\n",
    "\n",
    "print(\"Num GPUs Available: \", len(tf.config.list_physical_devices('GPU')))\n",
    "\n",
    "gpus = tf.config.list_physical_devices('GPU')\n",
    "if gpus:\n",
    "    try:\n",
    "        for gpu in gpus:\n",
    "            tf.config.experimental.set_memory_growth(gpu, True)\n",
    "    except RuntimeError as e:\n",
    "        print(e)\n"
   ],
   "outputs": [
    {
     "name": "stdout",
     "output_type": "stream",
     "text": [
      "Num GPUs Available:  1\n"
     ]
    }
   ],
   "execution_count": 1
  },
  {
   "metadata": {
    "ExecuteTime": {
     "end_time": "2024-08-30T20:16:14.478937Z",
     "start_time": "2024-08-30T20:16:12.699829Z"
    }
   },
   "cell_type": "code",
   "source": [
    "train_data = pd.read_csv('./data/train.csv')\n",
    "test_data = pd.read_csv('./data/test.csv')"
   ],
   "id": "15bd18dda32709e5",
   "outputs": [],
   "execution_count": 2
  },
  {
   "metadata": {
    "ExecuteTime": {
     "end_time": "2024-08-30T20:16:14.607640Z",
     "start_time": "2024-08-30T20:16:14.489736Z"
    }
   },
   "cell_type": "code",
   "source": [
    "train_y_d = train_data['label']\n",
    "train_x_d = train_data.drop(['label'], axis=1)"
   ],
   "id": "4841519dc28cc3d9",
   "outputs": [],
   "execution_count": 3
  },
  {
   "metadata": {
    "ExecuteTime": {
     "end_time": "2024-08-30T20:16:14.641437Z",
     "start_time": "2024-08-30T20:16:14.633389Z"
    }
   },
   "cell_type": "code",
   "source": "train_y_d.value_counts()",
   "id": "9ed0671bf8eb1bf3",
   "outputs": [
    {
     "data": {
      "text/plain": [
       "label\n",
       "1    4684\n",
       "7    4401\n",
       "3    4351\n",
       "9    4188\n",
       "2    4177\n",
       "6    4137\n",
       "0    4132\n",
       "4    4072\n",
       "8    4063\n",
       "5    3795\n",
       "Name: count, dtype: int64"
      ]
     },
     "execution_count": 4,
     "metadata": {},
     "output_type": "execute_result"
    }
   ],
   "execution_count": 4
  },
  {
   "metadata": {
    "ExecuteTime": {
     "end_time": "2024-08-30T20:16:14.714379Z",
     "start_time": "2024-08-30T20:16:14.682627Z"
    }
   },
   "cell_type": "code",
   "source": "train_x_d.isnull().sum()\n",
   "id": "d15aab3b454f644f",
   "outputs": [
    {
     "data": {
      "text/plain": [
       "pixel0      0\n",
       "pixel1      0\n",
       "pixel2      0\n",
       "pixel3      0\n",
       "pixel4      0\n",
       "           ..\n",
       "pixel779    0\n",
       "pixel780    0\n",
       "pixel781    0\n",
       "pixel782    0\n",
       "pixel783    0\n",
       "Length: 784, dtype: int64"
      ]
     },
     "execution_count": 5,
     "metadata": {},
     "output_type": "execute_result"
    }
   ],
   "execution_count": 5
  },
  {
   "metadata": {
    "ExecuteTime": {
     "end_time": "2024-08-30T20:16:14.945589Z",
     "start_time": "2024-08-30T20:16:14.930045Z"
    }
   },
   "cell_type": "code",
   "source": "test_data.isnull().sum()",
   "id": "8ac81b1ada0192",
   "outputs": [
    {
     "data": {
      "text/plain": [
       "pixel0      0\n",
       "pixel1      0\n",
       "pixel2      0\n",
       "pixel3      0\n",
       "pixel4      0\n",
       "           ..\n",
       "pixel779    0\n",
       "pixel780    0\n",
       "pixel781    0\n",
       "pixel782    0\n",
       "pixel783    0\n",
       "Length: 784, dtype: int64"
      ]
     },
     "execution_count": 6,
     "metadata": {},
     "output_type": "execute_result"
    }
   ],
   "execution_count": 6
  },
  {
   "metadata": {
    "ExecuteTime": {
     "end_time": "2024-08-30T20:16:15.505442Z",
     "start_time": "2024-08-30T20:16:15.501907Z"
    }
   },
   "cell_type": "code",
   "source": "train_x_d.shape\n",
   "id": "d6ab9db352786fb5",
   "outputs": [
    {
     "data": {
      "text/plain": [
       "(42000, 784)"
      ]
     },
     "execution_count": 7,
     "metadata": {},
     "output_type": "execute_result"
    }
   ],
   "execution_count": 7
  },
  {
   "metadata": {
    "ExecuteTime": {
     "end_time": "2024-08-30T20:16:16.195768Z",
     "start_time": "2024-08-30T20:16:16.191380Z"
    }
   },
   "cell_type": "code",
   "source": "test_data.shape",
   "id": "3e89628cf7d988de",
   "outputs": [
    {
     "data": {
      "text/plain": [
       "(28000, 784)"
      ]
     },
     "execution_count": 8,
     "metadata": {},
     "output_type": "execute_result"
    }
   ],
   "execution_count": 8
  },
  {
   "metadata": {
    "ExecuteTime": {
     "end_time": "2024-08-30T20:16:17.006865Z",
     "start_time": "2024-08-30T20:16:16.828259Z"
    }
   },
   "cell_type": "code",
   "source": "train_x_d /= 255.0",
   "id": "2e5ae1589cb6cee9",
   "outputs": [],
   "execution_count": 9
  },
  {
   "metadata": {
    "ExecuteTime": {
     "end_time": "2024-08-30T20:16:17.565755Z",
     "start_time": "2024-08-30T20:16:17.457998Z"
    }
   },
   "cell_type": "code",
   "source": "test_data /= 255.0",
   "id": "e808d6b7f9b7413f",
   "outputs": [],
   "execution_count": 10
  },
  {
   "metadata": {
    "ExecuteTime": {
     "end_time": "2024-08-30T20:16:18.309890Z",
     "start_time": "2024-08-30T20:16:18.303015Z"
    }
   },
   "cell_type": "code",
   "source": [
    "train_x_d = train_x_d.values.reshape(-1, 28, 28, 1)\n",
    "test_data = test_data.values.reshape(-1, 28, 28, 1)\n",
    "y_train_d = to_categorical(train_y_d, 10)"
   ],
   "id": "327ba64b82aac838",
   "outputs": [],
   "execution_count": 11
  },
  {
   "metadata": {
    "ExecuteTime": {
     "end_time": "2024-08-30T20:16:19.869028Z",
     "start_time": "2024-08-30T20:16:19.480226Z"
    }
   },
   "cell_type": "code",
   "source": [
    "train_x, val_x, train_y, val_y = train_test_split(train_x_d, y_train_d, test_size=0.1, random_state=42)\n",
    "\n",
    "train_x.shape"
   ],
   "id": "ed986da022404f88",
   "outputs": [
    {
     "data": {
      "text/plain": [
       "(37800, 28, 28, 1)"
      ]
     },
     "execution_count": 12,
     "metadata": {},
     "output_type": "execute_result"
    }
   ],
   "execution_count": 12
  },
  {
   "metadata": {
    "ExecuteTime": {
     "end_time": "2024-08-30T20:16:20.904331Z",
     "start_time": "2024-08-30T20:16:20.696737Z"
    }
   },
   "cell_type": "code",
   "source": [
    "augmented_data = ImageDataGenerator(\n",
    "    rotation_range=10,\n",
    "    zoom_range=0.2,\n",
    "    width_shift_range=0.2,\n",
    "    height_shift_range=0.2\n",
    ")\n",
    "augmented_data.fit(train_x)"
   ],
   "id": "bd93e8146e3309d",
   "outputs": [],
   "execution_count": 13
  },
  {
   "metadata": {
    "ExecuteTime": {
     "end_time": "2024-08-30T20:16:22.251340Z",
     "start_time": "2024-08-30T20:16:21.590037Z"
    }
   },
   "cell_type": "code",
   "source": [
    "model = Sequential()\n",
    "model.add(Conv2D(32, kernel_size=(5, 5), activation='relu',padding='same',input_shape=(28, 28, 1)))\n",
    "model.add(Conv2D(32, kernel_size=(5, 5), activation='relu',padding='same'))\n",
    "model.add(MaxPooling2D(pool_size=(2, 2)))\n",
    "model.add(Dropout(0.25))\n",
    "\n",
    "model.add(Conv2D(64, kernel_size=(3, 3), activation='relu',padding='same'))\n",
    "model.add(Conv2D(64, kernel_size=(3, 3), activation='relu',padding='same'))\n",
    "model.add(Conv2D(64, kernel_size=(3, 3), activation='relu',padding='same'))\n",
    "model.add(MaxPooling2D(pool_size=(2, 2)))\n",
    "model.add(Dropout(0.25))\n",
    "\n",
    "model.add(Flatten())\n",
    "model.add(Dense(256, activation='relu'))\n",
    "model.add(Dense(128, activation='relu'))\n",
    "model.add(Dropout(0.5))\n",
    "model.add(Dense(10, activation='softmax'))\n",
    "\n",
    "\n",
    "optimiser = RMSprop(learning_rate=0.001, rho=0.9, epsilon=1e-08, decay=0.0)\n",
    "model.compile(loss='categorical_crossentropy',optimizer=optimiser,metrics=['accuracy'])\n",
    "\n",
    "learning_rate_reduction_ann = ReduceLROnPlateau(\n",
    "    monitor='val_accuracy',\n",
    "    patience=5,\n",
    "    verbose=1,\n",
    "    factor=0.5,\n",
    "    min_lr=0.00001,\n",
    ")\n",
    "batch_size = 64\n",
    "epochs = 10"
   ],
   "id": "891d465402a389d",
   "outputs": [
    {
     "name": "stderr",
     "output_type": "stream",
     "text": [
      "/opt/anaconda3/envs/KS-DR/lib/python3.10/site-packages/keras/src/layers/convolutional/base_conv.py:107: UserWarning: Do not pass an `input_shape`/`input_dim` argument to a layer. When using Sequential models, prefer using an `Input(shape)` object as the first layer in the model instead.\n",
      "  super().__init__(activity_regularizer=activity_regularizer, **kwargs)\n",
      "2024-08-31 01:46:21.640625: I metal_plugin/src/device/metal_device.cc:1154] Metal device set to: Apple M1\n",
      "2024-08-31 01:46:21.641099: I metal_plugin/src/device/metal_device.cc:296] systemMemory: 8.00 GB\n",
      "2024-08-31 01:46:21.641110: I metal_plugin/src/device/metal_device.cc:313] maxCacheSize: 2.67 GB\n",
      "2024-08-31 01:46:21.641833: I tensorflow/core/common_runtime/pluggable_device/pluggable_device_factory.cc:305] Could not identify NUMA node of platform GPU ID 0, defaulting to 0. Your kernel may not have been built with NUMA support.\n",
      "2024-08-31 01:46:21.641900: I tensorflow/core/common_runtime/pluggable_device/pluggable_device_factory.cc:271] Created TensorFlow device (/job:localhost/replica:0/task:0/device:GPU:0 with 0 MB memory) -> physical PluggableDevice (device: 0, name: METAL, pci bus id: <undefined>)\n",
      "/opt/anaconda3/envs/KS-DR/lib/python3.10/site-packages/keras/src/optimizers/base_optimizer.py:33: UserWarning: Argument `decay` is no longer supported and will be ignored.\n",
      "  warnings.warn(\n"
     ]
    }
   ],
   "execution_count": 14
  },
  {
   "metadata": {
    "ExecuteTime": {
     "end_time": "2024-08-30T20:16:25.976758Z",
     "start_time": "2024-08-30T20:16:25.966701Z"
    }
   },
   "cell_type": "code",
   "source": "print(\"Num GPUs Available: \", len(tf.config.list_physical_devices('GPU')))",
   "id": "4760e7b9883fc974",
   "outputs": [
    {
     "name": "stdout",
     "output_type": "stream",
     "text": [
      "Num GPUs Available:  1\n"
     ]
    }
   ],
   "execution_count": 15
  },
  {
   "metadata": {
    "ExecuteTime": {
     "end_time": "2024-08-30T20:18:22.836401Z",
     "start_time": "2024-08-30T20:16:26.968470Z"
    }
   },
   "cell_type": "code",
   "source": [
    "evaluations = model.fit(\n",
    "    augmented_data.flow(train_x, train_y, batch_size=batch_size),\n",
    "    steps_per_epoch=len(train_x) // batch_size,\n",
    "    epochs=epochs,\n",
    "    validation_data=(val_x,val_y),\n",
    "    callbacks=[learning_rate_reduction_ann],\n",
    "    verbose=1\n",
    ")"
   ],
   "id": "8cc70c10852a07e0",
   "outputs": [
    {
     "name": "stdout",
     "output_type": "stream",
     "text": [
      "Epoch 1/10\n"
     ]
    },
    {
     "name": "stderr",
     "output_type": "stream",
     "text": [
      "2024-08-31 01:46:27.561770: I tensorflow/core/grappler/optimizers/custom_graph_optimizer_registry.cc:117] Plugin optimizer for device_type GPU is enabled.\n",
      "/opt/anaconda3/envs/KS-DR/lib/python3.10/site-packages/keras/src/trainers/data_adapters/py_dataset_adapter.py:122: UserWarning: Your `PyDataset` class should call `super().__init__(**kwargs)` in its constructor. `**kwargs` can include `workers`, `use_multiprocessing`, `max_queue_size`. Do not pass these arguments to `fit()`, as they will be ignored.\n",
      "  self._warn_if_super_not_called()\n"
     ]
    },
    {
     "name": "stdout",
     "output_type": "stream",
     "text": [
      "\u001B[1m590/590\u001B[0m \u001B[32m━━━━━━━━━━━━━━━━━━━━\u001B[0m\u001B[37m\u001B[0m \u001B[1m22s\u001B[0m 34ms/step - accuracy: 0.5302 - loss: 1.3495 - val_accuracy: 0.9726 - val_loss: 0.0912 - learning_rate: 0.0010\n",
      "Epoch 2/10\n",
      "\u001B[1m  1/590\u001B[0m \u001B[37m━━━━━━━━━━━━━━━━━━━━\u001B[0m \u001B[1m48s\u001B[0m 82ms/step - accuracy: 0.9219 - loss: 0.3235"
     ]
    },
    {
     "name": "stderr",
     "output_type": "stream",
     "text": [
      "2024-08-31 01:46:49.342015: W tensorflow/core/framework/local_rendezvous.cc:404] Local rendezvous is aborting with status: OUT_OF_RANGE: End of sequence\n",
      "\t [[{{node IteratorGetNext}}]]\n",
      "2024-08-31 01:46:49.342048: W tensorflow/core/framework/local_rendezvous.cc:404] Local rendezvous is aborting with status: OUT_OF_RANGE: End of sequence\n",
      "\t [[{{node IteratorGetNext}}]]\n",
      "\t [[StatefulPartitionedCall/ArgMax/_32]]\n",
      "2024-08-31 01:46:49.342064: I tensorflow/core/framework/local_rendezvous.cc:422] Local rendezvous recv item cancelled. Key hash: 3475367637929681113\n",
      "2024-08-31 01:46:49.342080: I tensorflow/core/framework/local_rendezvous.cc:422] Local rendezvous recv item cancelled. Key hash: 9336517979975189235\n",
      "2024-08-31 01:46:49.342083: I tensorflow/core/framework/local_rendezvous.cc:422] Local rendezvous recv item cancelled. Key hash: 7681335450985080455\n",
      "2024-08-31 01:46:49.342093: I tensorflow/core/framework/local_rendezvous.cc:422] Local rendezvous recv item cancelled. Key hash: 18305940798529136575\n",
      "2024-08-31 01:46:49.342095: I tensorflow/core/framework/local_rendezvous.cc:422] Local rendezvous recv item cancelled. Key hash: 11362257501780502809\n",
      "2024-08-31 01:46:49.342102: I tensorflow/core/framework/local_rendezvous.cc:422] Local rendezvous recv item cancelled. Key hash: 11702650237777144663\n",
      "2024-08-31 01:46:49.342112: I tensorflow/core/framework/local_rendezvous.cc:422] Local rendezvous recv item cancelled. Key hash: 13176900804702825635\n",
      "2024-08-31 01:46:49.342117: I tensorflow/core/framework/local_rendezvous.cc:422] Local rendezvous recv item cancelled. Key hash: 271373859302420507\n",
      "2024-08-31 01:46:49.342119: I tensorflow/core/framework/local_rendezvous.cc:422] Local rendezvous recv item cancelled. Key hash: 13718429492427969067\n",
      "2024-08-31 01:46:49.342130: I tensorflow/core/framework/local_rendezvous.cc:422] Local rendezvous recv item cancelled. Key hash: 16561356471705317903\n",
      "2024-08-31 01:46:49.342133: I tensorflow/core/framework/local_rendezvous.cc:422] Local rendezvous recv item cancelled. Key hash: 5808178071699846955\n",
      "2024-08-31 01:46:49.342135: I tensorflow/core/framework/local_rendezvous.cc:422] Local rendezvous recv item cancelled. Key hash: 4807855675994888449\n",
      "2024-08-31 01:46:49.342137: I tensorflow/core/framework/local_rendezvous.cc:422] Local rendezvous recv item cancelled. Key hash: 4012146299632081763\n",
      "2024-08-31 01:46:49.342147: I tensorflow/core/framework/local_rendezvous.cc:422] Local rendezvous recv item cancelled. Key hash: 17944507102743134664\n",
      "2024-08-31 01:46:49.342151: I tensorflow/core/framework/local_rendezvous.cc:422] Local rendezvous recv item cancelled. Key hash: 12954484067453395748\n",
      "2024-08-31 01:46:49.342154: I tensorflow/core/framework/local_rendezvous.cc:422] Local rendezvous recv item cancelled. Key hash: 17806980790480783182\n",
      "2024-08-31 01:46:49.342157: I tensorflow/core/framework/local_rendezvous.cc:422] Local rendezvous recv item cancelled. Key hash: 3056876370204732168\n",
      "2024-08-31 01:46:49.342159: I tensorflow/core/framework/local_rendezvous.cc:422] Local rendezvous recv item cancelled. Key hash: 1521127047132990508\n",
      "2024-08-31 01:46:49.342170: I tensorflow/core/framework/local_rendezvous.cc:422] Local rendezvous recv item cancelled. Key hash: 11681001442425204558\n",
      "2024-08-31 01:46:49.342173: I tensorflow/core/framework/local_rendezvous.cc:422] Local rendezvous recv item cancelled. Key hash: 6900713536446656802\n",
      "2024-08-31 01:46:49.342175: I tensorflow/core/framework/local_rendezvous.cc:422] Local rendezvous recv item cancelled. Key hash: 5773535159760662806\n",
      "2024-08-31 01:46:49.342178: I tensorflow/core/framework/local_rendezvous.cc:422] Local rendezvous recv item cancelled. Key hash: 16798799751220638532\n",
      "2024-08-31 01:46:49.342180: I tensorflow/core/framework/local_rendezvous.cc:422] Local rendezvous recv item cancelled. Key hash: 14541423502136300848\n",
      "2024-08-31 01:46:49.342183: I tensorflow/core/framework/local_rendezvous.cc:422] Local rendezvous recv item cancelled. Key hash: 6066944132696594584\n",
      "2024-08-31 01:46:49.342186: I tensorflow/core/framework/local_rendezvous.cc:422] Local rendezvous recv item cancelled. Key hash: 8787689689853901236\n",
      "2024-08-31 01:46:49.342188: I tensorflow/core/framework/local_rendezvous.cc:422] Local rendezvous recv item cancelled. Key hash: 16337163912884533838\n",
      "2024-08-31 01:46:49.342191: I tensorflow/core/framework/local_rendezvous.cc:422] Local rendezvous recv item cancelled. Key hash: 14107637079496358712\n",
      "2024-08-31 01:46:49.342194: I tensorflow/core/framework/local_rendezvous.cc:422] Local rendezvous recv item cancelled. Key hash: 5137954290370960862\n",
      "2024-08-31 01:46:49.342198: I tensorflow/core/framework/local_rendezvous.cc:422] Local rendezvous recv item cancelled. Key hash: 11555325253683093088\n",
      "2024-08-31 01:46:49.342201: I tensorflow/core/framework/local_rendezvous.cc:422] Local rendezvous recv item cancelled. Key hash: 3022549443973578316\n",
      "/opt/anaconda3/envs/KS-DR/lib/python3.10/contextlib.py:153: UserWarning: Your input ran out of data; interrupting training. Make sure that your dataset or generator can generate at least `steps_per_epoch * epochs` batches. You may need to use the `.repeat()` function when building your dataset.\n",
      "  self.gen.throw(typ, value, traceback)\n"
     ]
    },
    {
     "name": "stdout",
     "output_type": "stream",
     "text": [
      "\u001B[1m590/590\u001B[0m \u001B[32m━━━━━━━━━━━━━━━━━━━━\u001B[0m\u001B[37m\u001B[0m \u001B[1m1s\u001B[0m 2ms/step - accuracy: 0.9219 - loss: 0.3235 - val_accuracy: 0.9681 - val_loss: 0.1074 - learning_rate: 0.0010\n",
      "Epoch 3/10\n",
      "\u001B[1m590/590\u001B[0m \u001B[32m━━━━━━━━━━━━━━━━━━━━\u001B[0m\u001B[37m\u001B[0m \u001B[1m20s\u001B[0m 34ms/step - accuracy: 0.9362 - loss: 0.2288 - val_accuracy: 0.9805 - val_loss: 0.0667 - learning_rate: 0.0010\n",
      "Epoch 4/10\n",
      "\u001B[1m  1/590\u001B[0m \u001B[37m━━━━━━━━━━━━━━━━━━━━\u001B[0m \u001B[1m26s\u001B[0m 46ms/step - accuracy: 0.9688 - loss: 0.0839"
     ]
    },
    {
     "name": "stderr",
     "output_type": "stream",
     "text": [
      "2024-08-31 01:47:10.701295: W tensorflow/core/framework/local_rendezvous.cc:404] Local rendezvous is aborting with status: OUT_OF_RANGE: End of sequence\n",
      "\t [[{{node IteratorGetNext}}]]\n",
      "2024-08-31 01:47:10.701339: I tensorflow/core/framework/local_rendezvous.cc:422] Local rendezvous recv item cancelled. Key hash: 17944507102743134664\n",
      "2024-08-31 01:47:10.701349: W tensorflow/core/framework/local_rendezvous.cc:404] Local rendezvous is aborting with status: OUT_OF_RANGE: End of sequence\n",
      "\t [[{{node IteratorGetNext}}]]\n",
      "\t [[StatefulPartitionedCall/sequential_1/dropout_1_2/FloorMod/_36]]\n",
      "2024-08-31 01:47:10.701353: I tensorflow/core/framework/local_rendezvous.cc:422] Local rendezvous recv item cancelled. Key hash: 271373859302420507\n",
      "2024-08-31 01:47:10.701356: I tensorflow/core/framework/local_rendezvous.cc:422] Local rendezvous recv item cancelled. Key hash: 3475367637929681113\n",
      "2024-08-31 01:47:10.701359: I tensorflow/core/framework/local_rendezvous.cc:422] Local rendezvous recv item cancelled. Key hash: 12954484067453395748\n",
      "2024-08-31 01:47:10.701376: I tensorflow/core/framework/local_rendezvous.cc:422] Local rendezvous recv item cancelled. Key hash: 3056876370204732168\n",
      "2024-08-31 01:47:10.701379: I tensorflow/core/framework/local_rendezvous.cc:422] Local rendezvous recv item cancelled. Key hash: 1521127047132990508\n",
      "2024-08-31 01:47:10.701384: I tensorflow/core/framework/local_rendezvous.cc:422] Local rendezvous recv item cancelled. Key hash: 13718429492427969067\n",
      "2024-08-31 01:47:10.701407: I tensorflow/core/framework/local_rendezvous.cc:422] Local rendezvous recv item cancelled. Key hash: 9336517979975189235\n",
      "2024-08-31 01:47:10.701416: I tensorflow/core/framework/local_rendezvous.cc:422] Local rendezvous recv item cancelled. Key hash: 16561356471705317903\n",
      "2024-08-31 01:47:10.701419: I tensorflow/core/framework/local_rendezvous.cc:422] Local rendezvous recv item cancelled. Key hash: 7681335450985080455\n",
      "2024-08-31 01:47:10.701422: I tensorflow/core/framework/local_rendezvous.cc:422] Local rendezvous recv item cancelled. Key hash: 11681001442425204558\n",
      "2024-08-31 01:47:10.701428: I tensorflow/core/framework/local_rendezvous.cc:422] Local rendezvous recv item cancelled. Key hash: 5808178071699846955\n",
      "2024-08-31 01:47:10.701430: I tensorflow/core/framework/local_rendezvous.cc:422] Local rendezvous recv item cancelled. Key hash: 6900713536446656802\n",
      "2024-08-31 01:47:10.701438: I tensorflow/core/framework/local_rendezvous.cc:422] Local rendezvous recv item cancelled. Key hash: 5773535159760662806\n",
      "2024-08-31 01:47:10.701442: I tensorflow/core/framework/local_rendezvous.cc:422] Local rendezvous recv item cancelled. Key hash: 16798799751220638532\n",
      "2024-08-31 01:47:10.701444: I tensorflow/core/framework/local_rendezvous.cc:422] Local rendezvous recv item cancelled. Key hash: 18305940798529136575\n",
      "2024-08-31 01:47:10.701449: I tensorflow/core/framework/local_rendezvous.cc:422] Local rendezvous recv item cancelled. Key hash: 11362257501780502809\n",
      "2024-08-31 01:47:10.701451: I tensorflow/core/framework/local_rendezvous.cc:422] Local rendezvous recv item cancelled. Key hash: 4807855675994888449\n",
      "2024-08-31 01:47:10.701454: I tensorflow/core/framework/local_rendezvous.cc:422] Local rendezvous recv item cancelled. Key hash: 11702650237777144663\n",
      "2024-08-31 01:47:10.701457: I tensorflow/core/framework/local_rendezvous.cc:422] Local rendezvous recv item cancelled. Key hash: 14541423502136300848\n",
      "2024-08-31 01:47:10.701466: I tensorflow/core/framework/local_rendezvous.cc:422] Local rendezvous recv item cancelled. Key hash: 6066944132696594584\n",
      "2024-08-31 01:47:10.701469: I tensorflow/core/framework/local_rendezvous.cc:422] Local rendezvous recv item cancelled. Key hash: 8787689689853901236\n",
      "2024-08-31 01:47:10.701472: I tensorflow/core/framework/local_rendezvous.cc:422] Local rendezvous recv item cancelled. Key hash: 14107637079496358712\n",
      "2024-08-31 01:47:10.701474: I tensorflow/core/framework/local_rendezvous.cc:422] Local rendezvous recv item cancelled. Key hash: 5137954290370960862\n",
      "2024-08-31 01:47:10.701477: I tensorflow/core/framework/local_rendezvous.cc:422] Local rendezvous recv item cancelled. Key hash: 11555325253683093088\n",
      "2024-08-31 01:47:10.701479: I tensorflow/core/framework/local_rendezvous.cc:422] Local rendezvous recv item cancelled. Key hash: 3022549443973578316\n"
     ]
    },
    {
     "name": "stdout",
     "output_type": "stream",
     "text": [
      "\u001B[1m590/590\u001B[0m \u001B[32m━━━━━━━━━━━━━━━━━━━━\u001B[0m\u001B[37m\u001B[0m \u001B[1m1s\u001B[0m 2ms/step - accuracy: 0.9688 - loss: 0.0839 - val_accuracy: 0.9824 - val_loss: 0.0641 - learning_rate: 0.0010\n",
      "Epoch 5/10\n",
      "\u001B[1m590/590\u001B[0m \u001B[32m━━━━━━━━━━━━━━━━━━━━\u001B[0m\u001B[37m\u001B[0m \u001B[1m20s\u001B[0m 33ms/step - accuracy: 0.9607 - loss: 0.1409 - val_accuracy: 0.9886 - val_loss: 0.0426 - learning_rate: 0.0010\n",
      "Epoch 6/10\n",
      "\u001B[1m  1/590\u001B[0m \u001B[37m━━━━━━━━━━━━━━━━━━━━\u001B[0m \u001B[1m26s\u001B[0m 45ms/step - accuracy: 1.0000 - loss: 0.0470"
     ]
    },
    {
     "name": "stderr",
     "output_type": "stream",
     "text": [
      "2024-08-31 01:47:31.640049: W tensorflow/core/framework/local_rendezvous.cc:404] Local rendezvous is aborting with status: OUT_OF_RANGE: End of sequence\n",
      "\t [[{{node IteratorGetNext}}]]\n",
      "2024-08-31 01:47:31.640078: I tensorflow/core/framework/local_rendezvous.cc:422] Local rendezvous recv item cancelled. Key hash: 6900713536446656802\n",
      "2024-08-31 01:47:31.640094: I tensorflow/core/framework/local_rendezvous.cc:422] Local rendezvous recv item cancelled. Key hash: 5773535159760662806\n",
      "2024-08-31 01:47:31.640102: I tensorflow/core/framework/local_rendezvous.cc:422] Local rendezvous recv item cancelled. Key hash: 16798799751220638532\n",
      "2024-08-31 01:47:31.640105: W tensorflow/core/framework/local_rendezvous.cc:404] Local rendezvous is aborting with status: OUT_OF_RANGE: End of sequence\n",
      "\t [[{{node IteratorGetNext}}]]\n",
      "\t [[StatefulPartitionedCall/rmsprop/Add_32/_22]]\n",
      "2024-08-31 01:47:31.640112: I tensorflow/core/framework/local_rendezvous.cc:422] Local rendezvous recv item cancelled. Key hash: 271373859302420507\n",
      "2024-08-31 01:47:31.640115: I tensorflow/core/framework/local_rendezvous.cc:422] Local rendezvous recv item cancelled. Key hash: 9336517979975189235\n",
      "2024-08-31 01:47:31.640118: I tensorflow/core/framework/local_rendezvous.cc:422] Local rendezvous recv item cancelled. Key hash: 14541423502136300848\n",
      "2024-08-31 01:47:31.640125: I tensorflow/core/framework/local_rendezvous.cc:422] Local rendezvous recv item cancelled. Key hash: 13718429492427969067\n",
      "2024-08-31 01:47:31.640131: I tensorflow/core/framework/local_rendezvous.cc:422] Local rendezvous recv item cancelled. Key hash: 6066944132696594584\n",
      "2024-08-31 01:47:31.640135: I tensorflow/core/framework/local_rendezvous.cc:422] Local rendezvous recv item cancelled. Key hash: 1521127047132990508\n",
      "2024-08-31 01:47:31.640138: I tensorflow/core/framework/local_rendezvous.cc:422] Local rendezvous recv item cancelled. Key hash: 3022549443973578316\n",
      "2024-08-31 01:47:31.640142: I tensorflow/core/framework/local_rendezvous.cc:422] Local rendezvous recv item cancelled. Key hash: 16561356471705317903\n",
      "2024-08-31 01:47:31.640145: I tensorflow/core/framework/local_rendezvous.cc:422] Local rendezvous recv item cancelled. Key hash: 7681335450985080455\n",
      "2024-08-31 01:47:31.640148: I tensorflow/core/framework/local_rendezvous.cc:422] Local rendezvous recv item cancelled. Key hash: 18305940798529136575\n",
      "2024-08-31 01:47:31.640151: I tensorflow/core/framework/local_rendezvous.cc:422] Local rendezvous recv item cancelled. Key hash: 5808178071699846955\n",
      "2024-08-31 01:47:31.640155: I tensorflow/core/framework/local_rendezvous.cc:422] Local rendezvous recv item cancelled. Key hash: 11681001442425204558\n",
      "2024-08-31 01:47:31.640164: I tensorflow/core/framework/local_rendezvous.cc:422] Local rendezvous recv item cancelled. Key hash: 11362257501780502809\n",
      "2024-08-31 01:47:31.640168: I tensorflow/core/framework/local_rendezvous.cc:422] Local rendezvous recv item cancelled. Key hash: 11702650237777144663\n"
     ]
    },
    {
     "name": "stdout",
     "output_type": "stream",
     "text": [
      "\u001B[1m590/590\u001B[0m \u001B[32m━━━━━━━━━━━━━━━━━━━━\u001B[0m\u001B[37m\u001B[0m \u001B[1m1s\u001B[0m 2ms/step - accuracy: 1.0000 - loss: 0.0470 - val_accuracy: 0.9883 - val_loss: 0.0416 - learning_rate: 0.0010\n",
      "Epoch 7/10\n",
      "\u001B[1m590/590\u001B[0m \u001B[32m━━━━━━━━━━━━━━━━━━━━\u001B[0m\u001B[37m\u001B[0m \u001B[1m21s\u001B[0m 35ms/step - accuracy: 0.9707 - loss: 0.1112 - val_accuracy: 0.9850 - val_loss: 0.0424 - learning_rate: 0.0010\n",
      "Epoch 8/10\n",
      "\u001B[1m  1/590\u001B[0m \u001B[37m━━━━━━━━━━━━━━━━━━━━\u001B[0m \u001B[1m29s\u001B[0m 49ms/step - accuracy: 0.9688 - loss: 0.0634"
     ]
    },
    {
     "name": "stderr",
     "output_type": "stream",
     "text": [
      "2024-08-31 01:47:53.690162: W tensorflow/core/framework/local_rendezvous.cc:404] Local rendezvous is aborting with status: OUT_OF_RANGE: End of sequence\n",
      "\t [[{{node IteratorGetNext}}]]\n",
      "2024-08-31 01:47:53.690194: I tensorflow/core/framework/local_rendezvous.cc:422] Local rendezvous recv item cancelled. Key hash: 6066944132696594584\n",
      "2024-08-31 01:47:53.690197: W tensorflow/core/framework/local_rendezvous.cc:404] Local rendezvous is aborting with status: OUT_OF_RANGE: End of sequence\n",
      "\t [[{{node IteratorGetNext}}]]\n",
      "\t [[IteratorGetNext/_19]]\n",
      "2024-08-31 01:47:53.690207: I tensorflow/core/framework/local_rendezvous.cc:422] Local rendezvous recv item cancelled. Key hash: 6900713536446656802\n",
      "2024-08-31 01:47:53.690210: I tensorflow/core/framework/local_rendezvous.cc:422] Local rendezvous recv item cancelled. Key hash: 271373859302420507\n",
      "2024-08-31 01:47:53.690214: I tensorflow/core/framework/local_rendezvous.cc:422] Local rendezvous recv item cancelled. Key hash: 13718429492427969067\n",
      "2024-08-31 01:47:53.690217: I tensorflow/core/framework/local_rendezvous.cc:422] Local rendezvous recv item cancelled. Key hash: 5773535159760662806\n",
      "2024-08-31 01:47:53.690224: I tensorflow/core/framework/local_rendezvous.cc:422] Local rendezvous recv item cancelled. Key hash: 9336517979975189235\n",
      "2024-08-31 01:47:53.690229: I tensorflow/core/framework/local_rendezvous.cc:422] Local rendezvous recv item cancelled. Key hash: 7681335450985080455\n",
      "2024-08-31 01:47:53.690237: I tensorflow/core/framework/local_rendezvous.cc:422] Local rendezvous recv item cancelled. Key hash: 16798799751220638532\n",
      "2024-08-31 01:47:53.690262: I tensorflow/core/framework/local_rendezvous.cc:422] Local rendezvous recv item cancelled. Key hash: 5808178071699846955\n",
      "2024-08-31 01:47:53.690274: I tensorflow/core/framework/local_rendezvous.cc:422] Local rendezvous recv item cancelled. Key hash: 1521127047132990508\n",
      "2024-08-31 01:47:53.690290: I tensorflow/core/framework/local_rendezvous.cc:422] Local rendezvous recv item cancelled. Key hash: 14541423502136300848\n",
      "2024-08-31 01:47:53.690299: I tensorflow/core/framework/local_rendezvous.cc:422] Local rendezvous recv item cancelled. Key hash: 18305940798529136575\n",
      "2024-08-31 01:47:53.690303: I tensorflow/core/framework/local_rendezvous.cc:422] Local rendezvous recv item cancelled. Key hash: 11362257501780502809\n",
      "2024-08-31 01:47:53.690309: I tensorflow/core/framework/local_rendezvous.cc:422] Local rendezvous recv item cancelled. Key hash: 11702650237777144663\n"
     ]
    },
    {
     "name": "stdout",
     "output_type": "stream",
     "text": [
      "\u001B[1m590/590\u001B[0m \u001B[32m━━━━━━━━━━━━━━━━━━━━\u001B[0m\u001B[37m\u001B[0m \u001B[1m1s\u001B[0m 2ms/step - accuracy: 0.9688 - loss: 0.0634 - val_accuracy: 0.9838 - val_loss: 0.0522 - learning_rate: 0.0010\n",
      "Epoch 9/10\n",
      "\u001B[1m590/590\u001B[0m \u001B[32m━━━━━━━━━━━━━━━━━━━━\u001B[0m\u001B[37m\u001B[0m \u001B[1m24s\u001B[0m 40ms/step - accuracy: 0.9745 - loss: 0.0921 - val_accuracy: 0.9829 - val_loss: 0.0583 - learning_rate: 0.0010\n",
      "Epoch 10/10\n",
      "\u001B[1m  1/590\u001B[0m \u001B[37m━━━━━━━━━━━━━━━━━━━━\u001B[0m \u001B[1m5:23\u001B[0m 549ms/step - accuracy: 0.9844 - loss: 0.0877"
     ]
    },
    {
     "name": "stderr",
     "output_type": "stream",
     "text": [
      "2024-08-31 01:48:19.561994: W tensorflow/core/framework/local_rendezvous.cc:404] Local rendezvous is aborting with status: OUT_OF_RANGE: End of sequence\n",
      "\t [[{{node IteratorGetNext}}]]\n",
      "2024-08-31 01:48:19.562247: W tensorflow/core/framework/local_rendezvous.cc:404] Local rendezvous is aborting with status: OUT_OF_RANGE: End of sequence\n",
      "\t [[{{node IteratorGetNext}}]]\n",
      "\t [[StatefulPartitionedCall/ArgMax/_32]]\n",
      "2024-08-31 01:48:19.562498: I tensorflow/core/framework/local_rendezvous.cc:422] Local rendezvous recv item cancelled. Key hash: 3475367637929681113\n",
      "2024-08-31 01:48:19.562626: I tensorflow/core/framework/local_rendezvous.cc:422] Local rendezvous recv item cancelled. Key hash: 9336517979975189235\n",
      "2024-08-31 01:48:19.562632: I tensorflow/core/framework/local_rendezvous.cc:422] Local rendezvous recv item cancelled. Key hash: 7681335450985080455\n",
      "2024-08-31 01:48:19.562636: I tensorflow/core/framework/local_rendezvous.cc:422] Local rendezvous recv item cancelled. Key hash: 18305940798529136575\n",
      "2024-08-31 01:48:19.562640: I tensorflow/core/framework/local_rendezvous.cc:422] Local rendezvous recv item cancelled. Key hash: 11362257501780502809\n",
      "2024-08-31 01:48:19.562668: I tensorflow/core/framework/local_rendezvous.cc:422] Local rendezvous recv item cancelled. Key hash: 11702650237777144663\n",
      "2024-08-31 01:48:19.562742: I tensorflow/core/framework/local_rendezvous.cc:422] Local rendezvous recv item cancelled. Key hash: 13176900804702825635\n",
      "2024-08-31 01:48:19.562749: I tensorflow/core/framework/local_rendezvous.cc:422] Local rendezvous recv item cancelled. Key hash: 271373859302420507\n",
      "2024-08-31 01:48:19.562958: I tensorflow/core/framework/local_rendezvous.cc:422] Local rendezvous recv item cancelled. Key hash: 16561356471705317903\n",
      "2024-08-31 01:48:19.562968: I tensorflow/core/framework/local_rendezvous.cc:422] Local rendezvous recv item cancelled. Key hash: 13718429492427969067\n",
      "2024-08-31 01:48:19.562972: I tensorflow/core/framework/local_rendezvous.cc:422] Local rendezvous recv item cancelled. Key hash: 5808178071699846955\n",
      "2024-08-31 01:48:19.562976: I tensorflow/core/framework/local_rendezvous.cc:422] Local rendezvous recv item cancelled. Key hash: 4807855675994888449\n",
      "2024-08-31 01:48:19.562980: I tensorflow/core/framework/local_rendezvous.cc:422] Local rendezvous recv item cancelled. Key hash: 4012146299632081763\n",
      "2024-08-31 01:48:19.563015: I tensorflow/core/framework/local_rendezvous.cc:422] Local rendezvous recv item cancelled. Key hash: 17944507102743134664\n",
      "2024-08-31 01:48:19.563020: I tensorflow/core/framework/local_rendezvous.cc:422] Local rendezvous recv item cancelled. Key hash: 12954484067453395748\n",
      "2024-08-31 01:48:19.563024: I tensorflow/core/framework/local_rendezvous.cc:422] Local rendezvous recv item cancelled. Key hash: 17806980790480783182\n",
      "2024-08-31 01:48:19.563028: I tensorflow/core/framework/local_rendezvous.cc:422] Local rendezvous recv item cancelled. Key hash: 3056876370204732168\n",
      "2024-08-31 01:48:19.563032: I tensorflow/core/framework/local_rendezvous.cc:422] Local rendezvous recv item cancelled. Key hash: 1521127047132990508\n",
      "2024-08-31 01:48:19.563072: I tensorflow/core/framework/local_rendezvous.cc:422] Local rendezvous recv item cancelled. Key hash: 11681001442425204558\n",
      "2024-08-31 01:48:19.563232: I tensorflow/core/framework/local_rendezvous.cc:422] Local rendezvous recv item cancelled. Key hash: 5773535159760662806\n",
      "2024-08-31 01:48:19.563292: I tensorflow/core/framework/local_rendezvous.cc:422] Local rendezvous recv item cancelled. Key hash: 6900713536446656802\n",
      "2024-08-31 01:48:19.563317: I tensorflow/core/framework/local_rendezvous.cc:422] Local rendezvous recv item cancelled. Key hash: 16798799751220638532\n",
      "2024-08-31 01:48:19.563323: I tensorflow/core/framework/local_rendezvous.cc:422] Local rendezvous recv item cancelled. Key hash: 14541423502136300848\n",
      "2024-08-31 01:48:19.563327: I tensorflow/core/framework/local_rendezvous.cc:422] Local rendezvous recv item cancelled. Key hash: 6066944132696594584\n",
      "2024-08-31 01:48:19.563801: I tensorflow/core/framework/local_rendezvous.cc:422] Local rendezvous recv item cancelled. Key hash: 8787689689853901236\n",
      "2024-08-31 01:48:19.563818: I tensorflow/core/framework/local_rendezvous.cc:422] Local rendezvous recv item cancelled. Key hash: 16337163912884533838\n",
      "2024-08-31 01:48:19.563830: I tensorflow/core/framework/local_rendezvous.cc:422] Local rendezvous recv item cancelled. Key hash: 14107637079496358712\n",
      "2024-08-31 01:48:19.563838: I tensorflow/core/framework/local_rendezvous.cc:422] Local rendezvous recv item cancelled. Key hash: 5137954290370960862\n",
      "2024-08-31 01:48:19.563846: I tensorflow/core/framework/local_rendezvous.cc:422] Local rendezvous recv item cancelled. Key hash: 11555325253683093088\n",
      "2024-08-31 01:48:19.563853: I tensorflow/core/framework/local_rendezvous.cc:422] Local rendezvous recv item cancelled. Key hash: 3022549443973578316\n"
     ]
    },
    {
     "name": "stdout",
     "output_type": "stream",
     "text": [
      "\n",
      "Epoch 10: ReduceLROnPlateau reducing learning rate to 0.0005000000237487257.\n",
      "\u001B[1m590/590\u001B[0m \u001B[32m━━━━━━━━━━━━━━━━━━━━\u001B[0m\u001B[37m\u001B[0m \u001B[1m4s\u001B[0m 6ms/step - accuracy: 0.9844 - loss: 0.0877 - val_accuracy: 0.9871 - val_loss: 0.0469 - learning_rate: 0.0010\n"
     ]
    }
   ],
   "execution_count": 16
  },
  {
   "metadata": {
    "ExecuteTime": {
     "end_time": "2024-08-30T20:19:41.401642Z",
     "start_time": "2024-08-30T20:19:37.258458Z"
    }
   },
   "cell_type": "code",
   "source": [
    "results = model.predict(test_data)\n",
    "\n",
    "# select the indix with the maximum probability\n",
    "results = np.argmax(results,axis = 1)\n",
    "\n",
    "results = pd.Series(results,name=\"Label\")\n",
    "submission = pd.concat([pd.Series(range(1,28001),name = \"ImageId\"),results],axis = 1)\n",
    "\n",
    "submission.to_csv(\"submission_first.csv\",index=False)"
   ],
   "id": "c6d98d5336a332d9",
   "outputs": [
    {
     "name": "stdout",
     "output_type": "stream",
     "text": [
      "\u001B[1m875/875\u001B[0m \u001B[32m━━━━━━━━━━━━━━━━━━━━\u001B[0m\u001B[37m\u001B[0m \u001B[1m3s\u001B[0m 3ms/step\n"
     ]
    }
   ],
   "execution_count": 18
  },
  {
   "metadata": {},
   "cell_type": "code",
   "outputs": [],
   "execution_count": null,
   "source": "",
   "id": "b1f8c7fda7ad2a60"
  }
 ],
 "metadata": {
  "kernelspec": {
   "display_name": "Python 3",
   "language": "python",
   "name": "python3"
  },
  "language_info": {
   "codemirror_mode": {
    "name": "ipython",
    "version": 2
   },
   "file_extension": ".py",
   "mimetype": "text/x-python",
   "name": "python",
   "nbconvert_exporter": "python",
   "pygments_lexer": "ipython2",
   "version": "2.7.6"
  }
 },
 "nbformat": 4,
 "nbformat_minor": 5
}
